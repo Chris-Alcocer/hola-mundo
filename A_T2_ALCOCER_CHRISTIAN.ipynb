{
  "nbformat": 4,
  "nbformat_minor": 0,
  "metadata": {
    "colab": {
      "provenance": [],
      "authorship_tag": "ABX9TyOq4lCKl4Cy2Q05D+btuGAg",
      "include_colab_link": true
    },
    "kernelspec": {
      "name": "python3",
      "display_name": "Python 3"
    },
    "language_info": {
      "name": "python"
    }
  },
  "cells": [
    {
      "cell_type": "markdown",
      "metadata": {
        "id": "view-in-github",
        "colab_type": "text"
      },
      "source": [
        "<a href=\"https://colab.research.google.com/github/Chris-Alcocer/hola-mundo/blob/main/A_T2_ALCOCER_CHRISTIAN.ipynb\" target=\"_parent\"><img src=\"https://colab.research.google.com/assets/colab-badge.svg\" alt=\"Open In Colab\"/></a>"
      ]
    },
    {
      "cell_type": "markdown",
      "source": [
        "**TRABAJO 2**\n",
        "\n",
        "**TECNOLOGIAS DE LA INFORMACION Y COMUNICACION**\n",
        "\n",
        "UNIDAD 3 - HERRAMIENTAS COLABORATIVAS EN LINEA"
      ],
      "metadata": {
        "id": "oIB7El3g3c7a"
      }
    },
    {
      "cell_type": "markdown",
      "source": [
        "1. **Hola Mundo:** Escribe un programa que imprima \"Hola, Mundo!\" en la pantalla.\n"
      ],
      "metadata": {
        "id": "iAL6AG0xsixR"
      }
    },
    {
      "cell_type": "code",
      "source": [
        "print('Hola Mundo')"
      ],
      "metadata": {
        "id": "0MykIMkWt2bh"
      },
      "execution_count": null,
      "outputs": []
    },
    {
      "cell_type": "markdown",
      "source": [
        "**2. Par o Impar:** Escribe un programa que determine si un número introducido por el usuario es par o impar."
      ],
      "metadata": {
        "id": "WaRqGrpzt6XA"
      }
    },
    {
      "cell_type": "code",
      "source": [
        "n = int(input('Ingrese un numero '))\n",
        "\n",
        "if n % 2 == 0:\n",
        "  print(f'El numero {n} es par')\n",
        "else:\n",
        "  print(f'El numero {n} es impar')"
      ],
      "metadata": {
        "colab": {
          "base_uri": "https://localhost:8080/"
        },
        "id": "AQc5SWBQuIIJ",
        "outputId": "62ae184a-6f7e-4166-f643-88dfc79a7ed2"
      },
      "execution_count": 3,
      "outputs": [
        {
          "output_type": "stream",
          "name": "stdout",
          "text": [
            "Ingrese un numero 2\n",
            "El numero 2 es par\n"
          ]
        }
      ]
    },
    {
      "cell_type": "markdown",
      "source": [
        "**3. Suma de dos números:** Escribe un programa que pida al usuario dos números y los sume.\n"
      ],
      "metadata": {
        "id": "8wtwR7NQuezh"
      }
    },
    {
      "cell_type": "code",
      "source": [
        "n1 = int(input('Ingrese un numero '))\n",
        "n2 = int(input('Ingrese otro numero '))\n",
        "\n",
        "s = n1 + n2\n",
        "print(f'El resultado de la suma es {s}')2\n"
      ],
      "metadata": {
        "colab": {
          "base_uri": "https://localhost:8080/"
        },
        "id": "AWT7B5jRulZg",
        "outputId": "19dd64ad-2a75-4151-e4c6-28e67daa0e7f"
      },
      "execution_count": 4,
      "outputs": [
        {
          "output_type": "stream",
          "name": "stdout",
          "text": [
            "Ingrese un numero 5\n",
            "Ingrese otro numero 2\n",
            "El resultado de la suma es 7\n"
          ]
        }
      ]
    },
    {
      "cell_type": "markdown",
      "source": [
        "**4. Calculadora básica:**Escribe un programa que realice operaciones básicas (suma, resta, multiplicación y división) entre dos números introducidos por el usuario.\n"
      ],
      "metadata": {
        "id": "ps2YH9zBu5qh"
      }
    },
    {
      "cell_type": "code",
      "source": [
        "n1 = int(input('Ingrese un numero '))\n",
        "n2 = int(input('Ingrese otro numero '))\n",
        "\n",
        "print('1. Suma\\n'\n",
        "      '2. Resta\\n'\n",
        "      '3. Multiplicacion\\n'\n",
        "      '4. Division\\n'\n",
        "      'Que opcion desea realizar: ')\n",
        "op = input(' ')\n",
        "if op == '1':\n",
        "  s = n1 + n2\n",
        "  print(f'El resultado es {s}')\n",
        "elif op == '2':\n",
        "  r = n1 - n2\n",
        "  print(f'El resultado es {r}')\n",
        "elif op == '3':\n",
        "  m = n1 * n2\n",
        "  print(f'El resultado es {m}')\n",
        "elif op == '4':\n",
        "  d = n1 / n2\n",
        "  print(f'El resultado es {d}')"
      ],
      "metadata": {
        "colab": {
          "base_uri": "https://localhost:8080/"
        },
        "id": "v-RdIUUYvBiR",
        "outputId": "793759a7-6c8b-4ff9-ff55-04ed53e56318"
      },
      "execution_count": 6,
      "outputs": [
        {
          "output_type": "stream",
          "name": "stdout",
          "text": [
            "Ingrese un numero 5\n",
            "Ingrese otro numero 2\n",
            "1. Suma\n",
            "2. Resta\n",
            "3. Multiplicacion\n",
            "4. Division\n",
            "Que opcion desea realizar: \n",
            " 4\n",
            "El resultado es 2.5\n"
          ]
        }
      ]
    },
    {
      "cell_type": "markdown",
      "source": [
        "**5. Número mayor:** Escribe un programa que pida tres números al usuario y determine cuál es el mayor.\n"
      ],
      "metadata": {
        "id": "hKX0fEbcwSL_"
      }
    },
    {
      "cell_type": "code",
      "source": [
        "n1 = int(input('Ingrese un numero '))\n",
        "n2 = int(input('Ingrese otro numero '))\n",
        "n3 = int(input('Ingrese otro numero '))\n",
        "\n",
        "if n1 > n2 and n1 > n3:\n",
        "  if n2 > n3:\n",
        "    print(f'{n1} es el numero mayor')\n",
        "  elif n3 > n2:\n",
        "    print(f'{n1} es el numero mayor')\n",
        "elif n2 > n1 and n2 > n3:\n",
        "  if n1 > n3:\n",
        "    print(f'{n2} es el numero mayor')\n",
        "  elif n3 > n1:\n",
        "    print(f'{n2} es el numero mayor')\n",
        "elif n3 > n2 and n3 > n1:\n",
        "  if n2 > n1:\n",
        "    print(f'{n3} es el numero mayor')\n",
        "  elif n1 > n2:\n",
        "    print(f'{n3} es el numero mayor')"
      ],
      "metadata": {
        "colab": {
          "base_uri": "https://localhost:8080/"
        },
        "id": "bxQgVSvBwauH",
        "outputId": "6f76e552-9fc1-4ed4-bfc3-a7421a0b8575"
      },
      "execution_count": 12,
      "outputs": [
        {
          "output_type": "stream",
          "name": "stdout",
          "text": [
            "Ingrese un numero 5\n",
            "Ingrese otro numero 2\n",
            "Ingrese otro numero 9\n",
            "9 es el numero mayor\n"
          ]
        }
      ]
    },
    {
      "cell_type": "markdown",
      "source": [
        "**6. Cálculo del área de un círculo:** Escribe un programa que calcule el área de un círculo a partir de su radio, ingresado por el usuario.\n"
      ],
      "metadata": {
        "id": "xEI5-hfsyM7V"
      }
    },
    {
      "cell_type": "code",
      "source": [
        "r = float(input('Ingrese el radio del circulo que desea calcular: '))\n",
        "pi = 3.14\n",
        "a = pi * (r ** 2)\n",
        "print(f'El Area del circulo es {a} cm**2')"
      ],
      "metadata": {
        "colab": {
          "base_uri": "https://localhost:8080/"
        },
        "id": "wdRy4r-iyRld",
        "outputId": "dc6905de-6e67-4146-f6eb-aa0fac7bce9f"
      },
      "execution_count": 16,
      "outputs": [
        {
          "output_type": "stream",
          "name": "stdout",
          "text": [
            "Ingrese el radio del circulo que desea calcular: 5\n",
            "El Area del circulo es 78.5 cm**2\n"
          ]
        }
      ]
    },
    {
      "cell_type": "markdown",
      "source": [
        "**7. Conversión de grados Celsius a Fahrenheit:** Escribe un programa que convierta una temperatura dada en grados Celsius a grados Fahrenheit.\n"
      ],
      "metadata": {
        "id": "gz0TpXpU0F1n"
      }
    },
    {
      "cell_type": "code",
      "source": [
        "C = int(input('Ingrese los °C para transformar a °F '))\n",
        "F = C * (9 / 5) + 32\n",
        "\n",
        "print(f'T (°F) = T (°C) × 9/5 + 32 = {F}\\n'\n",
        "      f'La transformacion de {C}°C es {F}°F')"
      ],
      "metadata": {
        "colab": {
          "base_uri": "https://localhost:8080/"
        },
        "id": "YtBx6siJ0NR2",
        "outputId": "f47cc5ac-cff5-4299-eaa8-bfaa3a9b14b1"
      },
      "execution_count": 20,
      "outputs": [
        {
          "output_type": "stream",
          "name": "stdout",
          "text": [
            "Ingrese los °C para transformar a °F 34\n",
            "T (°F) = T (°C) × 9/5 + 32 = 93.2\n",
            "La transformacion de 34°C es 93.2°F\n"
          ]
        }
      ]
    },
    {
      "cell_type": "markdown",
      "source": [
        "**8. Cuenta atrás:** Escribe un programa que cuente hacia atrás desde 10 hasta 0."
      ],
      "metadata": {
        "id": "wjRul_D06GmA"
      }
    },
    {
      "cell_type": "code",
      "source": [
        "c = []\n",
        "for i in range(1,11):\n",
        "  c.append(i)\n",
        "\n",
        "c.reverse()\n",
        "print(c)"
      ],
      "metadata": {
        "colab": {
          "base_uri": "https://localhost:8080/"
        },
        "id": "Ib3IU7Da6N9h",
        "outputId": "c23c92aa-8441-4528-fe0e-57c5365477ba"
      },
      "execution_count": 24,
      "outputs": [
        {
          "output_type": "stream",
          "name": "stdout",
          "text": [
            "[10, 9, 8, 7, 6, 5, 4, 3, 2, 1]\n"
          ]
        }
      ]
    }
  ]
}